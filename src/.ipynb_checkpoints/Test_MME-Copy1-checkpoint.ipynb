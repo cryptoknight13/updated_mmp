{
 "cells": [
  {
   "cell_type": "code",
   "execution_count": 1,
   "id": "515d5c96",
   "metadata": {
    "ExecuteTime": {
     "end_time": "2023-05-02T15:27:14.237928Z",
     "start_time": "2023-05-02T15:27:14.219403Z"
    }
   },
   "outputs": [],
   "source": [
    "SEARCH_OPTIONS = [\"me\", \"mce\"]\n",
    "\n",
    "import argparse, sys\n",
    "from Problem import Problem\n",
    "import copy\n",
    "\n",
    "from queue import PriorityQueue, Queue\n",
    "import copy\n",
    "\n",
    "from PDDLhelp import *\n"
   ]
  },
  {
   "cell_type": "code",
   "execution_count": 2,
   "id": "f1ca693a",
   "metadata": {
    "ExecuteTime": {
     "end_time": "2023-05-02T15:27:14.250954Z",
     "start_time": "2023-05-02T15:27:14.246347Z"
    }
   },
   "outputs": [],
   "source": [
    "#Domain file with real PDDL model of robot.\n",
    "model_robot = \"../domain/benchmarks/blocksworld/original_domain.pddl\"\n",
    "\n",
    "#Domain file with human model of the robot.\n",
    "model_human = \"../domain/benchmarks/blocksworld/domain1.pddl\"\n",
    "\n",
    "#Problem file for robot.\n",
    "problem_robot = \"../domain/benchmarks/blocksworld/prob1.pddl\"\n",
    "\n",
    "#Domain file template for the problem.\n",
    "domain_templete = \"../domain/benchmarks/blocksworld/domain_template.pddl\"\n",
    "\n",
    "#Problem file template.\n",
    "problem_template = \"../domain/benchmarks/blocksworld/prob_template.pddl\""
   ]
  },
  {
   "cell_type": "code",
   "execution_count": 3,
   "id": "d8066366",
   "metadata": {
    "ExecuteTime": {
     "end_time": "2023-05-02T15:27:14.363416Z",
     "start_time": "2023-05-02T15:27:14.252108Z"
    }
   },
   "outputs": [
    {
     "name": "stdout",
     "output_type": "stream",
     "text": [
      "Setting up MMP...\n",
      "Output:  pickup b \n",
      "stack b a \n",
      "pickup c \n",
      "stack c b \n",
      "pickup d \n",
      "stack d c\n",
      "Plan:  ['pickup b', 'stack b a', 'pickup c', 'stack c b', 'pickup d', 'stack d c']\n"
     ]
    }
   ],
   "source": [
    "ground = None\n",
    "approx =None\n",
    "heuristic = None\n",
    "hproblem = None\n",
    "plan_file = None\n",
    "\n",
    "\n",
    "pr_obj = Problem(model_robot, model_human, problem_robot, domain_templete,\n",
    " ground, approx, heuristic,\n",
    " problem_template, hproblem, plan_file)\n",
    "\n",
    "\n",
    "# plan = pr_obj.MeSearch()\n",
    "\n",
    "# explanation      = ''\n",
    "# for item in plan:\n",
    "#     explanation += \"Explanation >> {}\\n\".format(item)\n",
    "\n",
    "# print explanation.strip()\n",
    "# with open('exp.dat', 'w') as explanation_file:\n",
    "#     explanation_file.write(explanation.strip())\n"
   ]
  },
  {
   "cell_type": "code",
   "execution_count": 4,
   "id": "7f736645",
   "metadata": {
    "ExecuteTime": {
     "end_time": "2023-05-02T15:27:14.369739Z",
     "start_time": "2023-05-02T15:27:14.364689Z"
    }
   },
   "outputs": [
    {
     "data": {
      "text/plain": [
       "['pickup-has-parameters-?x - block',\n",
       " 'pickup-has-precondition-clear ?x',\n",
       " 'pickup-has-precondition-ontable ?x',\n",
       " 'pickup-has-precondition-handempty',\n",
       " 'pickup-has-delete-effect-ontable ?x',\n",
       " 'pickup-has-delete-effect-clear ?x',\n",
       " 'pickup-has-delete-effect-handempty',\n",
       " 'pickup-has-add-effect-holding ?x',\n",
       " 'putdown-has-parameters-?x - block',\n",
       " 'putdown-has-delete-effect-holding ?x',\n",
       " 'putdown-has-add-effect-clear ?x',\n",
       " 'putdown-has-add-effect-handempty',\n",
       " 'putdown-has-add-effect-ontable ?x',\n",
       " 'stack-has-parameters-?x - block ?y - block',\n",
       " 'stack-has-precondition-holding ?x',\n",
       " 'stack-has-precondition-clear ?y',\n",
       " 'stack-has-delete-effect-holding ?x',\n",
       " 'stack-has-delete-effect-clear ?y',\n",
       " 'stack-has-add-effect-clear ?x',\n",
       " 'stack-has-add-effect-handempty',\n",
       " 'stack-has-add-effect-on ?x ?y',\n",
       " 'unstack-has-parameters-?x - block ?y - block',\n",
       " 'unstack-has-precondition-on ?x ?y',\n",
       " 'unstack-has-precondition-clear ?x',\n",
       " 'unstack-has-precondition-handempty',\n",
       " 'unstack-has-add-effect-holding ?x',\n",
       " 'unstack-has-add-effect-clear ?y',\n",
       " 'unstack-has-delete-effect-clear ?x',\n",
       " 'unstack-has-delete-effect-handempty',\n",
       " 'unstack-has-delete-effect-on ?x ?y',\n",
       " 'has-initial-state-clear c',\n",
       " 'has-initial-state-clear a',\n",
       " 'has-initial-state-clear b',\n",
       " 'has-initial-state-clear d',\n",
       " 'has-initial-state-ontable c',\n",
       " 'has-initial-state-ontable a',\n",
       " 'has-initial-state-ontable b',\n",
       " 'has-initial-state-ontable d',\n",
       " 'has-initial-state-handempty',\n",
       " 'has-goal-state-on d c',\n",
       " 'has-goal-state-on c b',\n",
       " 'has-goal-state-on b a']"
      ]
     },
     "execution_count": 4,
     "metadata": {},
     "output_type": "execute_result"
    }
   ],
   "source": [
    "pr_obj.robot_state"
   ]
  },
  {
   "cell_type": "code",
   "execution_count": 5,
   "id": "affb3892",
   "metadata": {
    "ExecuteTime": {
     "end_time": "2023-05-02T15:27:14.374242Z",
     "start_time": "2023-05-02T15:27:14.371716Z"
    }
   },
   "outputs": [
    {
     "data": {
      "text/plain": [
       "['unstack-has-parameters-?x - block ?y - block',\n",
       " 'unstack-has-precondition-on ?x ?y',\n",
       " 'unstack-has-precondition-clear ?x',\n",
       " 'unstack-has-precondition-handempty',\n",
       " 'unstack-has-add-effect-holding ?x',\n",
       " 'unstack-has-delete-effect-handempty',\n",
       " 'pickup-has-parameters-?x - block',\n",
       " 'pickup-has-precondition-clear ?x',\n",
       " 'pickup-has-precondition-ontable ?x',\n",
       " 'pickup-has-precondition-handempty',\n",
       " 'pickup-has-delete-effect-ontable ?x',\n",
       " 'pickup-has-delete-effect-clear ?x',\n",
       " 'putdown-has-parameters-?x - block',\n",
       " 'putdown-has-add-effect-clear ?x',\n",
       " 'putdown-has-add-effect-ontable ?x',\n",
       " 'stack-has-parameters-?x - block ?y - block',\n",
       " 'stack-has-precondition-holding ?x',\n",
       " 'stack-has-precondition-clear ?y',\n",
       " 'stack-has-add-effect-on ?x ?y',\n",
       " 'stack-has-add-effect-handempty',\n",
       " 'has-initial-state-clear c',\n",
       " 'has-initial-state-clear a',\n",
       " 'has-initial-state-clear b',\n",
       " 'has-initial-state-clear d',\n",
       " 'has-initial-state-ontable c',\n",
       " 'has-initial-state-ontable a',\n",
       " 'has-initial-state-ontable b',\n",
       " 'has-initial-state-ontable d',\n",
       " 'has-initial-state-handempty',\n",
       " 'has-goal-state-on d c',\n",
       " 'has-goal-state-on c b',\n",
       " 'has-goal-state-on b a']"
      ]
     },
     "execution_count": 5,
     "metadata": {},
     "output_type": "execute_result"
    }
   ],
   "source": [
    "pr_obj.human_state"
   ]
  },
  {
   "cell_type": "code",
   "execution_count": 6,
   "id": "7d15b59f",
   "metadata": {
    "ExecuteTime": {
     "end_time": "2023-05-02T15:27:14.377080Z",
     "start_time": "2023-05-02T15:27:14.375340Z"
    }
   },
   "outputs": [],
   "source": [
    "pr_obj.ground_flag"
   ]
  },
  {
   "cell_type": "code",
   "execution_count": 7,
   "id": "eb0c66ff",
   "metadata": {
    "ExecuteTime": {
     "end_time": "2023-05-02T15:27:14.380264Z",
     "start_time": "2023-05-02T15:27:14.377993Z"
    }
   },
   "outputs": [
    {
     "data": {
      "text/plain": [
       "['pickup b', 'stack b a', 'pickup c', 'stack c b', 'pickup d', 'stack d c']"
      ]
     },
     "execution_count": 7,
     "metadata": {},
     "output_type": "execute_result"
    }
   ],
   "source": [
    "pr_obj.plan"
   ]
  },
  {
   "cell_type": "code",
   "execution_count": 8,
   "id": "eeddc533",
   "metadata": {
    "ExecuteTime": {
     "end_time": "2023-05-02T15:27:14.382638Z",
     "start_time": "2023-05-02T15:27:14.381083Z"
    }
   },
   "outputs": [],
   "source": [
    "pr_obj.initialState = copy.copy(pr_obj.human_state)\n",
    "pr_obj.goalState = copy.copy(pr_obj.robot_state)"
   ]
  },
  {
   "cell_type": "code",
   "execution_count": 9,
   "id": "7f3a4f99",
   "metadata": {
    "ExecuteTime": {
     "end_time": "2023-05-02T15:27:14.386208Z",
     "start_time": "2023-05-02T15:27:14.383337Z"
    }
   },
   "outputs": [
    {
     "data": {
      "text/plain": [
       "(['unstack-has-parameters-?x - block ?y - block',\n",
       "  'unstack-has-precondition-on ?x ?y',\n",
       "  'unstack-has-precondition-clear ?x',\n",
       "  'unstack-has-precondition-handempty',\n",
       "  'unstack-has-add-effect-holding ?x',\n",
       "  'unstack-has-delete-effect-handempty',\n",
       "  'pickup-has-parameters-?x - block',\n",
       "  'pickup-has-precondition-clear ?x',\n",
       "  'pickup-has-precondition-ontable ?x',\n",
       "  'pickup-has-precondition-handempty',\n",
       "  'pickup-has-delete-effect-ontable ?x',\n",
       "  'pickup-has-delete-effect-clear ?x',\n",
       "  'putdown-has-parameters-?x - block',\n",
       "  'putdown-has-add-effect-clear ?x',\n",
       "  'putdown-has-add-effect-ontable ?x',\n",
       "  'stack-has-parameters-?x - block ?y - block',\n",
       "  'stack-has-precondition-holding ?x',\n",
       "  'stack-has-precondition-clear ?y',\n",
       "  'stack-has-add-effect-on ?x ?y',\n",
       "  'stack-has-add-effect-handempty',\n",
       "  'has-initial-state-clear c',\n",
       "  'has-initial-state-clear a',\n",
       "  'has-initial-state-clear b',\n",
       "  'has-initial-state-clear d',\n",
       "  'has-initial-state-ontable c',\n",
       "  'has-initial-state-ontable a',\n",
       "  'has-initial-state-ontable b',\n",
       "  'has-initial-state-ontable d',\n",
       "  'has-initial-state-handempty',\n",
       "  'has-goal-state-on d c',\n",
       "  'has-goal-state-on c b',\n",
       "  'has-goal-state-on b a'],\n",
       " ['pickup-has-parameters-?x - block',\n",
       "  'pickup-has-precondition-clear ?x',\n",
       "  'pickup-has-precondition-ontable ?x',\n",
       "  'pickup-has-precondition-handempty',\n",
       "  'pickup-has-delete-effect-ontable ?x',\n",
       "  'pickup-has-delete-effect-clear ?x',\n",
       "  'pickup-has-delete-effect-handempty',\n",
       "  'pickup-has-add-effect-holding ?x',\n",
       "  'putdown-has-parameters-?x - block',\n",
       "  'putdown-has-delete-effect-holding ?x',\n",
       "  'putdown-has-add-effect-clear ?x',\n",
       "  'putdown-has-add-effect-handempty',\n",
       "  'putdown-has-add-effect-ontable ?x',\n",
       "  'stack-has-parameters-?x - block ?y - block',\n",
       "  'stack-has-precondition-holding ?x',\n",
       "  'stack-has-precondition-clear ?y',\n",
       "  'stack-has-delete-effect-holding ?x',\n",
       "  'stack-has-delete-effect-clear ?y',\n",
       "  'stack-has-add-effect-clear ?x',\n",
       "  'stack-has-add-effect-handempty',\n",
       "  'stack-has-add-effect-on ?x ?y',\n",
       "  'unstack-has-parameters-?x - block ?y - block',\n",
       "  'unstack-has-precondition-on ?x ?y',\n",
       "  'unstack-has-precondition-clear ?x',\n",
       "  'unstack-has-precondition-handempty',\n",
       "  'unstack-has-add-effect-holding ?x',\n",
       "  'unstack-has-add-effect-clear ?y',\n",
       "  'unstack-has-delete-effect-clear ?x',\n",
       "  'unstack-has-delete-effect-handempty',\n",
       "  'unstack-has-delete-effect-on ?x ?y',\n",
       "  'has-initial-state-clear c',\n",
       "  'has-initial-state-clear a',\n",
       "  'has-initial-state-clear b',\n",
       "  'has-initial-state-clear d',\n",
       "  'has-initial-state-ontable c',\n",
       "  'has-initial-state-ontable a',\n",
       "  'has-initial-state-ontable b',\n",
       "  'has-initial-state-ontable d',\n",
       "  'has-initial-state-handempty',\n",
       "  'has-goal-state-on d c',\n",
       "  'has-goal-state-on c b',\n",
       "  'has-goal-state-on b a'])"
      ]
     },
     "execution_count": 9,
     "metadata": {},
     "output_type": "execute_result"
    }
   ],
   "source": [
    "pr_obj.initialState, pr_obj.goalState"
   ]
  },
  {
   "cell_type": "code",
   "execution_count": 10,
   "id": "7c672b97",
   "metadata": {
    "ExecuteTime": {
     "end_time": "2023-05-02T15:27:14.390046Z",
     "start_time": "2023-05-02T15:27:14.387438Z"
    }
   },
   "outputs": [
    {
     "name": "stdout",
     "output_type": "stream",
     "text": [
      "Runnning aStar Search...\n"
     ]
    }
   ],
   "source": [
    "#Init Astar Search \n",
    "startState            = pr_obj.getStartState()\n",
    "fringe                = PriorityQueue()\n",
    "closed                = set()\n",
    "numberOfNodesExpanded = 0\n",
    "\n",
    "fringe.put((pr_obj.heuristic(startState), [startState, []]))\n",
    "\n",
    "print (\"Runnning aStar Search...\")"
   ]
  },
  {
   "cell_type": "code",
   "execution_count": 11,
   "id": "5155ae68",
   "metadata": {
    "ExecuteTime": {
     "end_time": "2023-05-02T15:27:14.393373Z",
     "start_time": "2023-05-02T15:27:14.391021Z"
    }
   },
   "outputs": [
    {
     "data": {
      "text/plain": [
       "0.0"
      ]
     },
     "execution_count": 11,
     "metadata": {},
     "output_type": "execute_result"
    }
   ],
   "source": [
    "pr_obj.heuristic(startState)"
   ]
  },
  {
   "cell_type": "code",
   "execution_count": 12,
   "id": "27730606",
   "metadata": {
    "ExecuteTime": {
     "end_time": "2023-05-02T15:27:14.396532Z",
     "start_time": "2023-05-02T15:27:14.394471Z"
    }
   },
   "outputs": [
    {
     "name": "stdout",
     "output_type": "stream",
     "text": [
      "[['unstack-has-parameters-?x - block ?y - block', 'unstack-has-precondition-on ?x ?y', 'unstack-has-precondition-clear ?x', 'unstack-has-precondition-handempty', 'unstack-has-add-effect-holding ?x', 'unstack-has-delete-effect-handempty', 'pickup-has-parameters-?x - block', 'pickup-has-precondition-clear ?x', 'pickup-has-precondition-ontable ?x', 'pickup-has-precondition-handempty', 'pickup-has-delete-effect-ontable ?x', 'pickup-has-delete-effect-clear ?x', 'putdown-has-parameters-?x - block', 'putdown-has-add-effect-clear ?x', 'putdown-has-add-effect-ontable ?x', 'stack-has-parameters-?x - block ?y - block', 'stack-has-precondition-holding ?x', 'stack-has-precondition-clear ?y', 'stack-has-add-effect-on ?x ?y', 'stack-has-add-effect-handempty', 'has-initial-state-clear c', 'has-initial-state-clear a', 'has-initial-state-clear b', 'has-initial-state-clear d', 'has-initial-state-ontable c', 'has-initial-state-ontable a', 'has-initial-state-ontable b', 'has-initial-state-ontable d', 'has-initial-state-handempty', 'has-goal-state-on d c', 'has-goal-state-on c b', 'has-goal-state-on b a'], []]\n"
     ]
    }
   ],
   "source": [
    "node = fringe.get()[1]\n",
    "print(node)\n",
    "\n",
    "old_plan = pr_obj.plan"
   ]
  },
  {
   "cell_type": "code",
   "execution_count": 13,
   "id": "6aa14ee1",
   "metadata": {
    "ExecuteTime": {
     "end_time": "2023-05-02T15:27:14.399398Z",
     "start_time": "2023-05-02T15:27:14.397456Z"
    }
   },
   "outputs": [],
   "source": [
    "successor_list = pr_obj.getSuccessors(node, old_plan)"
   ]
  },
  {
   "cell_type": "code",
   "execution_count": 14,
   "id": "2fae826d",
   "metadata": {
    "ExecuteTime": {
     "end_time": "2023-05-02T15:27:14.404184Z",
     "start_time": "2023-05-02T15:27:14.401611Z"
    }
   },
   "outputs": [
    {
     "data": {
      "text/plain": [
       "['has-goal-state-on c b',\n",
       " 'has-initial-state-clear d',\n",
       " 'pickup-has-precondition-ontable ?x',\n",
       " 'has-initial-state-clear a',\n",
       " 'unstack-has-precondition-on ?x ?y',\n",
       " 'putdown-has-add-effect-clear ?x',\n",
       " 'has-initial-state-clear b',\n",
       " 'has-goal-state-on d c',\n",
       " 'unstack-has-delete-effect-handempty',\n",
       " 'pickup-has-delete-effect-ontable ?x',\n",
       " 'unstack-has-add-effect-holding ?x',\n",
       " 'has-initial-state-ontable c',\n",
       " 'pickup-has-delete-effect-clear ?x',\n",
       " 'has-initial-state-clear c',\n",
       " 'unstack-has-precondition-clear ?x',\n",
       " 'unstack-has-precondition-handempty',\n",
       " 'stack-has-add-effect-on ?x ?y',\n",
       " 'stack-has-precondition-holding ?x',\n",
       " 'pickup-has-precondition-clear ?x',\n",
       " 'stack-has-precondition-clear ?y',\n",
       " 'stack-has-parameters-?x - block ?y - block',\n",
       " 'has-initial-state-handempty',\n",
       " 'has-initial-state-ontable a',\n",
       " 'has-initial-state-ontable b',\n",
       " 'unstack-has-parameters-?x - block ?y - block',\n",
       " 'putdown-has-parameters-?x - block',\n",
       " 'has-initial-state-ontable d',\n",
       " 'pickup-has-parameters-?x - block',\n",
       " 'stack-has-add-effect-handempty',\n",
       " 'putdown-has-add-effect-ontable ?x',\n",
       " 'stack-has-add-effect-clear ?x',\n",
       " 'pickup-has-precondition-handempty',\n",
       " 'has-goal-state-on b a']"
      ]
     },
     "execution_count": 14,
     "metadata": {},
     "output_type": "execute_result"
    }
   ],
   "source": [
    "successor_list[9][0]"
   ]
  },
  {
   "cell_type": "code",
   "execution_count": 16,
   "id": "8745f177",
   "metadata": {
    "ExecuteTime": {
     "end_time": "2023-05-02T15:28:26.892108Z",
     "start_time": "2023-05-02T15:28:26.881724Z"
    }
   },
   "outputs": [
    {
     "data": {
      "text/plain": [
       "32"
      ]
     },
     "execution_count": 16,
     "metadata": {},
     "output_type": "execute_result"
    }
   ],
   "source": [
    "len(node[0])"
   ]
  },
  {
   "cell_type": "code",
   "execution_count": 17,
   "id": "abc09024",
   "metadata": {
    "ExecuteTime": {
     "end_time": "2023-05-02T15:29:34.926366Z",
     "start_time": "2023-05-02T15:29:34.916006Z"
    }
   },
   "outputs": [],
   "source": [
    "candidate_node = successor_list.pop()"
   ]
  },
  {
   "cell_type": "code",
   "execution_count": 18,
   "id": "4760b1d8",
   "metadata": {
    "ExecuteTime": {
     "end_time": "2023-05-02T15:29:38.823592Z",
     "start_time": "2023-05-02T15:29:38.813263Z"
    }
   },
   "outputs": [
    {
     "data": {
      "text/plain": [
       "[['has-goal-state-on c b',\n",
       "  'has-initial-state-clear d',\n",
       "  'pickup-has-precondition-ontable ?x',\n",
       "  'has-initial-state-clear a',\n",
       "  'unstack-has-precondition-on ?x ?y',\n",
       "  'putdown-has-add-effect-clear ?x',\n",
       "  'has-initial-state-clear b',\n",
       "  'has-goal-state-on d c',\n",
       "  'unstack-has-delete-effect-handempty',\n",
       "  'pickup-has-delete-effect-ontable ?x',\n",
       "  'unstack-has-add-effect-holding ?x',\n",
       "  'has-initial-state-ontable c',\n",
       "  'pickup-has-delete-effect-clear ?x',\n",
       "  'has-initial-state-clear c',\n",
       "  'unstack-has-precondition-clear ?x',\n",
       "  'unstack-has-precondition-handempty',\n",
       "  'stack-has-add-effect-on ?x ?y',\n",
       "  'stack-has-precondition-holding ?x',\n",
       "  'pickup-has-precondition-clear ?x',\n",
       "  'stack-has-precondition-clear ?y',\n",
       "  'stack-has-parameters-?x - block ?y - block',\n",
       "  'has-initial-state-handempty',\n",
       "  'has-initial-state-ontable a',\n",
       "  'has-initial-state-ontable b',\n",
       "  'unstack-has-parameters-?x - block ?y - block',\n",
       "  'putdown-has-parameters-?x - block',\n",
       "  'has-initial-state-ontable d',\n",
       "  'pickup-has-parameters-?x - block',\n",
       "  'stack-has-add-effect-handempty',\n",
       "  'putdown-has-add-effect-ontable ?x',\n",
       "  'stack-has-add-effect-clear ?x',\n",
       "  'pickup-has-precondition-handempty',\n",
       "  'has-goal-state-on b a'],\n",
       " 'stack-has-add-effect-clear ?x']"
      ]
     },
     "execution_count": 18,
     "metadata": {},
     "output_type": "execute_result"
    }
   ],
   "source": [
    "candidate_node"
   ]
  },
  {
   "cell_type": "code",
   "execution_count": 19,
   "id": "c9e8d539",
   "metadata": {
    "ExecuteTime": {
     "end_time": "2023-05-02T15:30:01.128517Z",
     "start_time": "2023-05-02T15:30:01.122377Z"
    }
   },
   "outputs": [],
   "source": [
    "new_node = [candidate_node[0], node[1] + [candidate_node[1]]]"
   ]
  },
  {
   "cell_type": "code",
   "execution_count": 20,
   "id": "bc0f057f",
   "metadata": {
    "ExecuteTime": {
     "end_time": "2023-05-02T15:30:03.347748Z",
     "start_time": "2023-05-02T15:30:03.337123Z"
    }
   },
   "outputs": [
    {
     "data": {
      "text/plain": [
       "[['has-goal-state-on c b',\n",
       "  'has-initial-state-clear d',\n",
       "  'pickup-has-precondition-ontable ?x',\n",
       "  'has-initial-state-clear a',\n",
       "  'unstack-has-precondition-on ?x ?y',\n",
       "  'putdown-has-add-effect-clear ?x',\n",
       "  'has-initial-state-clear b',\n",
       "  'has-goal-state-on d c',\n",
       "  'unstack-has-delete-effect-handempty',\n",
       "  'pickup-has-delete-effect-ontable ?x',\n",
       "  'unstack-has-add-effect-holding ?x',\n",
       "  'has-initial-state-ontable c',\n",
       "  'pickup-has-delete-effect-clear ?x',\n",
       "  'has-initial-state-clear c',\n",
       "  'unstack-has-precondition-clear ?x',\n",
       "  'unstack-has-precondition-handempty',\n",
       "  'stack-has-add-effect-on ?x ?y',\n",
       "  'stack-has-precondition-holding ?x',\n",
       "  'pickup-has-precondition-clear ?x',\n",
       "  'stack-has-precondition-clear ?y',\n",
       "  'stack-has-parameters-?x - block ?y - block',\n",
       "  'has-initial-state-handempty',\n",
       "  'has-initial-state-ontable a',\n",
       "  'has-initial-state-ontable b',\n",
       "  'unstack-has-parameters-?x - block ?y - block',\n",
       "  'putdown-has-parameters-?x - block',\n",
       "  'has-initial-state-ontable d',\n",
       "  'pickup-has-parameters-?x - block',\n",
       "  'stack-has-add-effect-handempty',\n",
       "  'putdown-has-add-effect-ontable ?x',\n",
       "  'stack-has-add-effect-clear ?x',\n",
       "  'pickup-has-precondition-handempty',\n",
       "  'has-goal-state-on b a'],\n",
       " ['stack-has-add-effect-clear ?x']]"
      ]
     },
     "execution_count": 20,
     "metadata": {},
     "output_type": "execute_result"
    }
   ],
   "source": [
    "new_node"
   ]
  },
  {
   "cell_type": "code",
   "execution_count": 21,
   "id": "d07d314e",
   "metadata": {
    "ExecuteTime": {
     "end_time": "2023-05-02T15:32:19.733690Z",
     "start_time": "2023-05-02T15:32:19.726670Z"
    }
   },
   "outputs": [],
   "source": [
    "node = new_node"
   ]
  },
  {
   "cell_type": "code",
   "execution_count": 23,
   "id": "4c81aa4e",
   "metadata": {
    "ExecuteTime": {
     "end_time": "2023-05-02T15:32:32.245651Z",
     "start_time": "2023-05-02T15:32:32.234012Z"
    }
   },
   "outputs": [
    {
     "data": {
      "text/plain": [
       "['stack-has-add-effect-clear ?x']"
      ]
     },
     "execution_count": 23,
     "metadata": {},
     "output_type": "execute_result"
    }
   ],
   "source": [
    "node[1]"
   ]
  },
  {
   "cell_type": "code",
   "execution_count": 24,
   "id": "69b718f1",
   "metadata": {
    "ExecuteTime": {
     "end_time": "2023-05-02T15:32:54.160227Z",
     "start_time": "2023-05-02T15:32:54.146873Z"
    }
   },
   "outputs": [],
   "source": [
    "successor_list = pr_obj.getSuccessors(node, old_plan)"
   ]
  },
  {
   "cell_type": "code",
   "execution_count": 28,
   "id": "62ba8c7c",
   "metadata": {
    "ExecuteTime": {
     "end_time": "2023-05-02T15:33:34.970671Z",
     "start_time": "2023-05-02T15:33:34.963175Z"
    }
   },
   "outputs": [
    {
     "name": "stdout",
     "output_type": "stream",
     "text": [
      "stack-has-delete-effect-clear ?y\n",
      " \n",
      "putdown-has-delete-effect-holding ?x\n",
      " \n",
      "putdown-has-add-effect-handempty\n",
      " \n",
      "pickup-has-delete-effect-handempty\n",
      " \n",
      "unstack-has-delete-effect-clear ?x\n",
      " \n",
      "pickup-has-add-effect-holding ?x\n",
      " \n",
      "unstack-has-delete-effect-on ?x ?y\n",
      " \n",
      "stack-has-delete-effect-holding ?x\n",
      " \n",
      "unstack-has-add-effect-clear ?y\n",
      " \n"
     ]
    }
   ],
   "source": [
    "for a_list in successor_list:\n",
    "    print(a_list[1])\n",
    "    print(\" \")\n"
   ]
  },
  {
   "cell_type": "code",
   "execution_count": 29,
   "id": "ed18cf80",
   "metadata": {
    "ExecuteTime": {
     "end_time": "2023-05-02T15:34:03.298849Z",
     "start_time": "2023-05-02T15:34:03.291827Z"
    }
   },
   "outputs": [],
   "source": [
    "candidate_node     = successor_list.pop()"
   ]
  },
  {
   "cell_type": "code",
   "execution_count": 31,
   "id": "58d43ba6",
   "metadata": {
    "ExecuteTime": {
     "end_time": "2023-05-02T15:34:18.150787Z",
     "start_time": "2023-05-02T15:34:18.139703Z"
    }
   },
   "outputs": [],
   "source": [
    "new_node           = [candidate_node[0], node[1] + [candidate_node[1]]]"
   ]
  },
  {
   "cell_type": "code",
   "execution_count": 32,
   "id": "ce5de27d",
   "metadata": {
    "ExecuteTime": {
     "end_time": "2023-05-02T15:34:25.266862Z",
     "start_time": "2023-05-02T15:34:25.256921Z"
    }
   },
   "outputs": [
    {
     "data": {
      "text/plain": [
       "[['has-goal-state-on c b',\n",
       "  'has-initial-state-clear d',\n",
       "  'pickup-has-precondition-ontable ?x',\n",
       "  'has-initial-state-clear a',\n",
       "  'unstack-has-precondition-on ?x ?y',\n",
       "  'putdown-has-add-effect-clear ?x',\n",
       "  'has-initial-state-clear b',\n",
       "  'has-goal-state-on d c',\n",
       "  'unstack-has-delete-effect-handempty',\n",
       "  'pickup-has-delete-effect-ontable ?x',\n",
       "  'unstack-has-add-effect-holding ?x',\n",
       "  'has-initial-state-ontable c',\n",
       "  'pickup-has-delete-effect-clear ?x',\n",
       "  'has-initial-state-clear c',\n",
       "  'unstack-has-precondition-clear ?x',\n",
       "  'unstack-has-precondition-handempty',\n",
       "  'stack-has-add-effect-on ?x ?y',\n",
       "  'stack-has-precondition-holding ?x',\n",
       "  'pickup-has-precondition-clear ?x',\n",
       "  'unstack-has-add-effect-clear ?y',\n",
       "  'stack-has-precondition-clear ?y',\n",
       "  'stack-has-parameters-?x - block ?y - block',\n",
       "  'has-initial-state-handempty',\n",
       "  'has-initial-state-ontable a',\n",
       "  'has-initial-state-ontable b',\n",
       "  'unstack-has-parameters-?x - block ?y - block',\n",
       "  'putdown-has-parameters-?x - block',\n",
       "  'has-initial-state-ontable d',\n",
       "  'pickup-has-parameters-?x - block',\n",
       "  'stack-has-add-effect-handempty',\n",
       "  'putdown-has-add-effect-ontable ?x',\n",
       "  'stack-has-add-effect-clear ?x',\n",
       "  'pickup-has-precondition-handempty',\n",
       "  'has-goal-state-on b a'],\n",
       " ['stack-has-add-effect-clear ?x', 'unstack-has-add-effect-clear ?y']]"
      ]
     },
     "execution_count": 32,
     "metadata": {},
     "output_type": "execute_result"
    }
   ],
   "source": [
    "new_node"
   ]
  },
  {
   "cell_type": "code",
   "execution_count": 15,
   "id": "c979fde4",
   "metadata": {
    "ExecuteTime": {
     "end_time": "2023-05-02T14:24:39.275920Z",
     "start_time": "2023-05-02T14:24:39.266412Z"
    }
   },
   "outputs": [
    {
     "data": {
      "text/plain": [
       "10"
      ]
     },
     "execution_count": 15,
     "metadata": {},
     "output_type": "execute_result"
    }
   ],
   "source": [
    "len(successor_list)"
   ]
  },
  {
   "cell_type": "code",
   "execution_count": 16,
   "id": "58ed90d2",
   "metadata": {
    "ExecuteTime": {
     "end_time": "2023-05-02T14:24:39.680334Z",
     "start_time": "2023-05-02T14:24:39.672676Z"
    }
   },
   "outputs": [
    {
     "data": {
      "text/plain": [
       "(['stack-has-precondition-clear ?y',\n",
       "  'has-goal-state-on c b',\n",
       "  'pickup-has-delete-effect-ontable ?x',\n",
       "  'unstack-has-precondition-clear ?x',\n",
       "  'unstack-has-precondition-on ?x ?y',\n",
       "  'stack-has-parameters-?x - block ?y - block',\n",
       "  'has-initial-state-clear c',\n",
       "  'has-initial-state-clear b',\n",
       "  'pickup-has-precondition-handempty',\n",
       "  'has-initial-state-clear d',\n",
       "  'has-initial-state-ontable b',\n",
       "  'unstack-has-parameters-?x - block ?y - block',\n",
       "  'unstack-has-delete-effect-handempty',\n",
       "  'pickup-has-delete-effect-clear ?x',\n",
       "  'pickup-has-precondition-ontable ?x',\n",
       "  'stack-has-add-effect-handempty',\n",
       "  'unstack-has-add-effect-holding ?x',\n",
       "  'putdown-has-add-effect-ontable ?x',\n",
       "  'has-initial-state-clear a',\n",
       "  'has-initial-state-handempty',\n",
       "  'pickup-has-precondition-clear ?x',\n",
       "  'stack-has-add-effect-on ?x ?y',\n",
       "  'has-goal-state-on d c',\n",
       "  'pickup-has-add-effect-holding ?x',\n",
       "  'stack-has-precondition-holding ?x',\n",
       "  'pickup-has-parameters-?x - block',\n",
       "  'has-initial-state-ontable d',\n",
       "  'has-initial-state-ontable a',\n",
       "  'unstack-has-precondition-handempty',\n",
       "  'putdown-has-add-effect-clear ?x',\n",
       "  'putdown-has-parameters-?x - block',\n",
       "  'has-goal-state-on b a',\n",
       "  'has-initial-state-ontable c'],\n",
       " 'pickup-has-add-effect-holding ?x')"
      ]
     },
     "execution_count": 16,
     "metadata": {},
     "output_type": "execute_result"
    }
   ],
   "source": [
    "successor_list[1][0],successor_list[1][1]\n",
    "    "
   ]
  },
  {
   "cell_type": "code",
   "execution_count": 30,
   "id": "409eb8ed",
   "metadata": {
    "ExecuteTime": {
     "end_time": "2023-05-02T15:17:44.588099Z",
     "start_time": "2023-05-02T15:17:44.577062Z"
    }
   },
   "outputs": [
    {
     "data": {
      "text/plain": [
       "frozenset({'has-goal-state-on b a',\n",
       "           'has-goal-state-on c b',\n",
       "           'has-goal-state-on d c',\n",
       "           'has-initial-state-clear a',\n",
       "           'has-initial-state-clear b',\n",
       "           'has-initial-state-clear c',\n",
       "           'has-initial-state-clear d',\n",
       "           'has-initial-state-handempty',\n",
       "           'has-initial-state-ontable a',\n",
       "           'has-initial-state-ontable b',\n",
       "           'has-initial-state-ontable c',\n",
       "           'has-initial-state-ontable d',\n",
       "           'pickup-has-delete-effect-clear ?x',\n",
       "           'pickup-has-delete-effect-ontable ?x',\n",
       "           'pickup-has-parameters-?x - block',\n",
       "           'pickup-has-precondition-clear ?x',\n",
       "           'pickup-has-precondition-handempty',\n",
       "           'pickup-has-precondition-ontable ?x',\n",
       "           'putdown-has-add-effect-clear ?x',\n",
       "           'putdown-has-add-effect-ontable ?x',\n",
       "           'putdown-has-parameters-?x - block',\n",
       "           'stack-has-add-effect-handempty',\n",
       "           'stack-has-add-effect-on ?x ?y',\n",
       "           'stack-has-parameters-?x - block ?y - block',\n",
       "           'stack-has-precondition-clear ?y',\n",
       "           'stack-has-precondition-holding ?x',\n",
       "           'unstack-has-add-effect-holding ?x',\n",
       "           'unstack-has-delete-effect-handempty',\n",
       "           'unstack-has-parameters-?x - block ?y - block',\n",
       "           'unstack-has-precondition-clear ?x',\n",
       "           'unstack-has-precondition-handempty',\n",
       "           'unstack-has-precondition-on ?x ?y'})"
      ]
     },
     "execution_count": 30,
     "metadata": {},
     "output_type": "execute_result"
    }
   ],
   "source": [
    "frozenset(node[0])"
   ]
  },
  {
   "cell_type": "code",
   "execution_count": 17,
   "id": "c54d0303",
   "metadata": {
    "ExecuteTime": {
     "end_time": "2023-05-02T14:24:40.096314Z",
     "start_time": "2023-05-02T14:24:40.085545Z"
    }
   },
   "outputs": [
    {
     "name": "stdout",
     "output_type": "stream",
     "text": [
      "[['stack-has-precondition-clear ?y', 'has-goal-state-on c b', 'pickup-has-delete-effect-ontable ?x', 'unstack-has-precondition-clear ?x', 'unstack-has-precondition-on ?x ?y', 'stack-has-parameters-?x - block ?y - block', 'has-initial-state-clear c', 'has-initial-state-clear b', 'pickup-has-precondition-handempty', 'has-initial-state-clear d', 'has-initial-state-ontable b', 'unstack-has-parameters-?x - block ?y - block', 'unstack-has-delete-effect-handempty', 'pickup-has-delete-effect-clear ?x', 'pickup-has-precondition-ontable ?x', 'stack-has-add-effect-handempty', 'unstack-has-add-effect-holding ?x', 'putdown-has-add-effect-ontable ?x', 'has-initial-state-clear a', 'has-initial-state-handempty', 'pickup-has-precondition-clear ?x', 'stack-has-add-effect-on ?x ?y', 'has-goal-state-on d c', 'stack-has-precondition-holding ?x', 'pickup-has-parameters-?x - block', 'putdown-has-add-effect-handempty', 'has-initial-state-ontable d', 'has-initial-state-ontable a', 'unstack-has-precondition-handempty', 'putdown-has-add-effect-clear ?x', 'putdown-has-parameters-?x - block', 'has-goal-state-on b a', 'has-initial-state-ontable c'], 'putdown-has-add-effect-handempty'] 2\n",
      "[['stack-has-precondition-clear ?y', 'has-goal-state-on c b', 'pickup-has-delete-effect-ontable ?x', 'unstack-has-precondition-clear ?x', 'unstack-has-precondition-on ?x ?y', 'stack-has-parameters-?x - block ?y - block', 'has-initial-state-clear c', 'has-initial-state-clear b', 'pickup-has-precondition-handempty', 'has-initial-state-clear d', 'has-initial-state-ontable b', 'unstack-has-parameters-?x - block ?y - block', 'unstack-has-delete-effect-handempty', 'pickup-has-delete-effect-clear ?x', 'pickup-has-precondition-ontable ?x', 'stack-has-add-effect-handempty', 'unstack-has-add-effect-holding ?x', 'putdown-has-add-effect-ontable ?x', 'has-initial-state-clear a', 'has-initial-state-handempty', 'pickup-has-precondition-clear ?x', 'stack-has-add-effect-on ?x ?y', 'has-goal-state-on d c', 'stack-has-precondition-holding ?x', 'pickup-has-parameters-?x - block', 'putdown-has-add-effect-handempty', 'has-initial-state-ontable d', 'has-initial-state-ontable a', 'unstack-has-precondition-handempty', 'putdown-has-add-effect-clear ?x', 'putdown-has-parameters-?x - block', 'has-goal-state-on b a', 'has-initial-state-ontable c'], ['putdown-has-add-effect-handempty']] 2\n",
      "[['stack-has-precondition-clear ?y', 'has-goal-state-on c b', 'pickup-has-delete-effect-ontable ?x', 'unstack-has-precondition-clear ?x', 'unstack-has-precondition-on ?x ?y', 'stack-has-parameters-?x - block ?y - block', 'has-initial-state-clear c', 'has-initial-state-clear b', 'pickup-has-precondition-handempty', 'has-initial-state-clear d', 'has-initial-state-ontable b', 'unstack-has-parameters-?x - block ?y - block', 'unstack-has-delete-effect-handempty', 'pickup-has-delete-effect-clear ?x', 'pickup-has-precondition-ontable ?x', 'stack-has-add-effect-handempty', 'unstack-has-add-effect-holding ?x', 'putdown-has-add-effect-ontable ?x', 'has-initial-state-clear a', 'has-initial-state-handempty', 'stack-has-delete-effect-holding ?x', 'pickup-has-precondition-clear ?x', 'stack-has-add-effect-on ?x ?y', 'has-goal-state-on d c', 'stack-has-precondition-holding ?x', 'pickup-has-parameters-?x - block', 'has-initial-state-ontable d', 'has-initial-state-ontable a', 'unstack-has-precondition-handempty', 'putdown-has-add-effect-clear ?x', 'putdown-has-parameters-?x - block', 'has-goal-state-on b a', 'has-initial-state-ontable c'], 'stack-has-delete-effect-holding ?x'] 2\n",
      "[['stack-has-precondition-clear ?y', 'has-goal-state-on c b', 'pickup-has-delete-effect-ontable ?x', 'unstack-has-precondition-clear ?x', 'unstack-has-precondition-on ?x ?y', 'stack-has-parameters-?x - block ?y - block', 'has-initial-state-clear c', 'has-initial-state-clear b', 'pickup-has-precondition-handempty', 'has-initial-state-clear d', 'has-initial-state-ontable b', 'unstack-has-parameters-?x - block ?y - block', 'unstack-has-delete-effect-handempty', 'pickup-has-delete-effect-clear ?x', 'pickup-has-precondition-ontable ?x', 'stack-has-add-effect-handempty', 'unstack-has-add-effect-holding ?x', 'putdown-has-add-effect-ontable ?x', 'has-initial-state-clear a', 'has-initial-state-handempty', 'stack-has-delete-effect-holding ?x', 'pickup-has-precondition-clear ?x', 'stack-has-add-effect-on ?x ?y', 'has-goal-state-on d c', 'stack-has-precondition-holding ?x', 'pickup-has-parameters-?x - block', 'has-initial-state-ontable d', 'has-initial-state-ontable a', 'unstack-has-precondition-handempty', 'putdown-has-add-effect-clear ?x', 'putdown-has-parameters-?x - block', 'has-goal-state-on b a', 'has-initial-state-ontable c'], ['stack-has-delete-effect-holding ?x']] 2\n",
      "[['stack-has-precondition-clear ?y', 'has-goal-state-on c b', 'pickup-has-delete-effect-ontable ?x', 'unstack-has-precondition-clear ?x', 'unstack-has-precondition-on ?x ?y', 'stack-has-parameters-?x - block ?y - block', 'has-initial-state-clear c', 'has-initial-state-clear b', 'pickup-has-precondition-handempty', 'has-initial-state-clear d', 'has-initial-state-ontable b', 'unstack-has-parameters-?x - block ?y - block', 'unstack-has-delete-effect-handempty', 'pickup-has-delete-effect-clear ?x', 'pickup-has-precondition-ontable ?x', 'stack-has-add-effect-handempty', 'unstack-has-add-effect-holding ?x', 'putdown-has-add-effect-ontable ?x', 'has-initial-state-clear a', 'has-initial-state-handempty', 'pickup-has-precondition-clear ?x', 'stack-has-add-effect-on ?x ?y', 'has-goal-state-on d c', 'stack-has-precondition-holding ?x', 'pickup-has-parameters-?x - block', 'has-initial-state-ontable d', 'has-initial-state-ontable a', 'pickup-has-delete-effect-handempty', 'unstack-has-precondition-handempty', 'putdown-has-add-effect-clear ?x', 'putdown-has-parameters-?x - block', 'has-goal-state-on b a', 'has-initial-state-ontable c'], 'pickup-has-delete-effect-handempty'] 2\n",
      "[['stack-has-precondition-clear ?y', 'has-goal-state-on c b', 'pickup-has-delete-effect-ontable ?x', 'unstack-has-precondition-clear ?x', 'unstack-has-precondition-on ?x ?y', 'stack-has-parameters-?x - block ?y - block', 'has-initial-state-clear c', 'has-initial-state-clear b', 'pickup-has-precondition-handempty', 'has-initial-state-clear d', 'has-initial-state-ontable b', 'unstack-has-parameters-?x - block ?y - block', 'unstack-has-delete-effect-handempty', 'pickup-has-delete-effect-clear ?x', 'pickup-has-precondition-ontable ?x', 'stack-has-add-effect-handempty', 'unstack-has-add-effect-holding ?x', 'putdown-has-add-effect-ontable ?x', 'has-initial-state-clear a', 'has-initial-state-handempty', 'pickup-has-precondition-clear ?x', 'stack-has-add-effect-on ?x ?y', 'has-goal-state-on d c', 'stack-has-precondition-holding ?x', 'pickup-has-parameters-?x - block', 'has-initial-state-ontable d', 'has-initial-state-ontable a', 'pickup-has-delete-effect-handempty', 'unstack-has-precondition-handempty', 'putdown-has-add-effect-clear ?x', 'putdown-has-parameters-?x - block', 'has-goal-state-on b a', 'has-initial-state-ontable c'], ['pickup-has-delete-effect-handempty']] 2\n",
      "[['stack-has-precondition-clear ?y', 'has-goal-state-on c b', 'pickup-has-delete-effect-ontable ?x', 'unstack-has-precondition-clear ?x', 'unstack-has-delete-effect-clear ?x', 'unstack-has-precondition-on ?x ?y', 'stack-has-parameters-?x - block ?y - block', 'has-initial-state-clear c', 'has-initial-state-clear b', 'pickup-has-precondition-handempty', 'has-initial-state-clear d', 'has-initial-state-ontable b', 'unstack-has-parameters-?x - block ?y - block', 'unstack-has-delete-effect-handempty', 'pickup-has-delete-effect-clear ?x', 'pickup-has-precondition-ontable ?x', 'stack-has-add-effect-handempty', 'unstack-has-add-effect-holding ?x', 'putdown-has-add-effect-ontable ?x', 'has-initial-state-clear a', 'has-initial-state-handempty', 'pickup-has-precondition-clear ?x', 'stack-has-add-effect-on ?x ?y', 'has-goal-state-on d c', 'stack-has-precondition-holding ?x', 'pickup-has-parameters-?x - block', 'has-initial-state-ontable d', 'has-initial-state-ontable a', 'unstack-has-precondition-handempty', 'putdown-has-add-effect-clear ?x', 'putdown-has-parameters-?x - block', 'has-goal-state-on b a', 'has-initial-state-ontable c'], 'unstack-has-delete-effect-clear ?x'] 2\n",
      "[['stack-has-precondition-clear ?y', 'has-goal-state-on c b', 'pickup-has-delete-effect-ontable ?x', 'unstack-has-precondition-clear ?x', 'unstack-has-delete-effect-clear ?x', 'unstack-has-precondition-on ?x ?y', 'stack-has-parameters-?x - block ?y - block', 'has-initial-state-clear c', 'has-initial-state-clear b', 'pickup-has-precondition-handempty', 'has-initial-state-clear d', 'has-initial-state-ontable b', 'unstack-has-parameters-?x - block ?y - block', 'unstack-has-delete-effect-handempty', 'pickup-has-delete-effect-clear ?x', 'pickup-has-precondition-ontable ?x', 'stack-has-add-effect-handempty', 'unstack-has-add-effect-holding ?x', 'putdown-has-add-effect-ontable ?x', 'has-initial-state-clear a', 'has-initial-state-handempty', 'pickup-has-precondition-clear ?x', 'stack-has-add-effect-on ?x ?y', 'has-goal-state-on d c', 'stack-has-precondition-holding ?x', 'pickup-has-parameters-?x - block', 'has-initial-state-ontable d', 'has-initial-state-ontable a', 'unstack-has-precondition-handempty', 'putdown-has-add-effect-clear ?x', 'putdown-has-parameters-?x - block', 'has-goal-state-on b a', 'has-initial-state-ontable c'], ['unstack-has-delete-effect-clear ?x']] 2\n",
      "[['stack-has-precondition-clear ?y', 'has-goal-state-on c b', 'pickup-has-delete-effect-ontable ?x', 'unstack-has-precondition-clear ?x', 'unstack-has-precondition-on ?x ?y', 'stack-has-parameters-?x - block ?y - block', 'has-initial-state-clear c', 'has-initial-state-clear b', 'pickup-has-precondition-handempty', 'has-initial-state-clear d', 'has-initial-state-ontable b', 'unstack-has-parameters-?x - block ?y - block', 'unstack-has-delete-effect-handempty', 'pickup-has-delete-effect-clear ?x', 'pickup-has-precondition-ontable ?x', 'stack-has-add-effect-handempty', 'stack-has-delete-effect-clear ?y', 'unstack-has-add-effect-holding ?x', 'putdown-has-add-effect-ontable ?x', 'has-initial-state-clear a', 'has-initial-state-handempty', 'pickup-has-precondition-clear ?x', 'stack-has-add-effect-on ?x ?y', 'has-goal-state-on d c', 'stack-has-precondition-holding ?x', 'pickup-has-parameters-?x - block', 'has-initial-state-ontable d', 'has-initial-state-ontable a', 'unstack-has-precondition-handempty', 'putdown-has-add-effect-clear ?x', 'putdown-has-parameters-?x - block', 'has-goal-state-on b a', 'has-initial-state-ontable c'], 'stack-has-delete-effect-clear ?y'] 2\n",
      "[['stack-has-precondition-clear ?y', 'has-goal-state-on c b', 'pickup-has-delete-effect-ontable ?x', 'unstack-has-precondition-clear ?x', 'unstack-has-precondition-on ?x ?y', 'stack-has-parameters-?x - block ?y - block', 'has-initial-state-clear c', 'has-initial-state-clear b', 'pickup-has-precondition-handempty', 'has-initial-state-clear d', 'has-initial-state-ontable b', 'unstack-has-parameters-?x - block ?y - block', 'unstack-has-delete-effect-handempty', 'pickup-has-delete-effect-clear ?x', 'pickup-has-precondition-ontable ?x', 'stack-has-add-effect-handempty', 'stack-has-delete-effect-clear ?y', 'unstack-has-add-effect-holding ?x', 'putdown-has-add-effect-ontable ?x', 'has-initial-state-clear a', 'has-initial-state-handempty', 'pickup-has-precondition-clear ?x', 'stack-has-add-effect-on ?x ?y', 'has-goal-state-on d c', 'stack-has-precondition-holding ?x', 'pickup-has-parameters-?x - block', 'has-initial-state-ontable d', 'has-initial-state-ontable a', 'unstack-has-precondition-handempty', 'putdown-has-add-effect-clear ?x', 'putdown-has-parameters-?x - block', 'has-goal-state-on b a', 'has-initial-state-ontable c'], ['stack-has-delete-effect-clear ?y']] 2\n",
      "[['stack-has-precondition-clear ?y', 'has-goal-state-on c b', 'pickup-has-delete-effect-ontable ?x', 'unstack-has-precondition-clear ?x', 'unstack-has-precondition-on ?x ?y', 'stack-has-parameters-?x - block ?y - block', 'has-initial-state-clear c', 'has-initial-state-clear b', 'pickup-has-precondition-handempty', 'has-initial-state-clear d', 'has-initial-state-ontable b', 'unstack-has-parameters-?x - block ?y - block', 'unstack-has-delete-effect-handempty', 'pickup-has-delete-effect-clear ?x', 'pickup-has-precondition-ontable ?x', 'stack-has-add-effect-handempty', 'unstack-has-add-effect-holding ?x', 'putdown-has-add-effect-ontable ?x', 'has-initial-state-clear a', 'has-initial-state-handempty', 'pickup-has-precondition-clear ?x', 'stack-has-add-effect-on ?x ?y', 'has-goal-state-on d c', 'putdown-has-delete-effect-holding ?x', 'stack-has-precondition-holding ?x', 'pickup-has-parameters-?x - block', 'has-initial-state-ontable d', 'has-initial-state-ontable a', 'unstack-has-precondition-handempty', 'putdown-has-add-effect-clear ?x', 'putdown-has-parameters-?x - block', 'has-goal-state-on b a', 'has-initial-state-ontable c'], 'putdown-has-delete-effect-holding ?x'] 2\n",
      "[['stack-has-precondition-clear ?y', 'has-goal-state-on c b', 'pickup-has-delete-effect-ontable ?x', 'unstack-has-precondition-clear ?x', 'unstack-has-precondition-on ?x ?y', 'stack-has-parameters-?x - block ?y - block', 'has-initial-state-clear c', 'has-initial-state-clear b', 'pickup-has-precondition-handempty', 'has-initial-state-clear d', 'has-initial-state-ontable b', 'unstack-has-parameters-?x - block ?y - block', 'unstack-has-delete-effect-handempty', 'pickup-has-delete-effect-clear ?x', 'pickup-has-precondition-ontable ?x', 'stack-has-add-effect-handempty', 'unstack-has-add-effect-holding ?x', 'putdown-has-add-effect-ontable ?x', 'has-initial-state-clear a', 'has-initial-state-handempty', 'pickup-has-precondition-clear ?x', 'stack-has-add-effect-on ?x ?y', 'has-goal-state-on d c', 'putdown-has-delete-effect-holding ?x', 'stack-has-precondition-holding ?x', 'pickup-has-parameters-?x - block', 'has-initial-state-ontable d', 'has-initial-state-ontable a', 'unstack-has-precondition-handempty', 'putdown-has-add-effect-clear ?x', 'putdown-has-parameters-?x - block', 'has-goal-state-on b a', 'has-initial-state-ontable c'], ['putdown-has-delete-effect-holding ?x']] 2\n",
      "[['stack-has-precondition-clear ?y', 'has-goal-state-on c b', 'pickup-has-delete-effect-ontable ?x', 'unstack-has-precondition-clear ?x', 'unstack-has-precondition-on ?x ?y', 'stack-has-parameters-?x - block ?y - block', 'has-initial-state-clear c', 'has-initial-state-clear b', 'pickup-has-precondition-handempty', 'has-initial-state-clear d', 'has-initial-state-ontable b', 'unstack-has-parameters-?x - block ?y - block', 'unstack-has-delete-effect-handempty', 'pickup-has-delete-effect-clear ?x', 'pickup-has-precondition-ontable ?x', 'stack-has-add-effect-handempty', 'unstack-has-add-effect-holding ?x', 'putdown-has-add-effect-ontable ?x', 'has-initial-state-clear a', 'has-initial-state-handempty', 'pickup-has-precondition-clear ?x', 'stack-has-add-effect-on ?x ?y', 'has-goal-state-on d c', 'unstack-has-add-effect-clear ?y', 'stack-has-precondition-holding ?x', 'pickup-has-parameters-?x - block', 'has-initial-state-ontable d', 'has-initial-state-ontable a', 'unstack-has-precondition-handempty', 'putdown-has-add-effect-clear ?x', 'putdown-has-parameters-?x - block', 'has-goal-state-on b a', 'has-initial-state-ontable c'], 'unstack-has-add-effect-clear ?y'] 2\n",
      "[['stack-has-precondition-clear ?y', 'has-goal-state-on c b', 'pickup-has-delete-effect-ontable ?x', 'unstack-has-precondition-clear ?x', 'unstack-has-precondition-on ?x ?y', 'stack-has-parameters-?x - block ?y - block', 'has-initial-state-clear c', 'has-initial-state-clear b', 'pickup-has-precondition-handempty', 'has-initial-state-clear d', 'has-initial-state-ontable b', 'unstack-has-parameters-?x - block ?y - block', 'unstack-has-delete-effect-handempty', 'pickup-has-delete-effect-clear ?x', 'pickup-has-precondition-ontable ?x', 'stack-has-add-effect-handempty', 'unstack-has-add-effect-holding ?x', 'putdown-has-add-effect-ontable ?x', 'has-initial-state-clear a', 'has-initial-state-handempty', 'pickup-has-precondition-clear ?x', 'stack-has-add-effect-on ?x ?y', 'has-goal-state-on d c', 'unstack-has-add-effect-clear ?y', 'stack-has-precondition-holding ?x', 'pickup-has-parameters-?x - block', 'has-initial-state-ontable d', 'has-initial-state-ontable a', 'unstack-has-precondition-handempty', 'putdown-has-add-effect-clear ?x', 'putdown-has-parameters-?x - block', 'has-goal-state-on b a', 'has-initial-state-ontable c'], ['unstack-has-add-effect-clear ?y']] 2\n",
      "[['stack-has-precondition-clear ?y', 'has-goal-state-on c b', 'pickup-has-delete-effect-ontable ?x', 'unstack-has-precondition-clear ?x', 'unstack-has-precondition-on ?x ?y', 'stack-has-parameters-?x - block ?y - block', 'has-initial-state-clear c', 'has-initial-state-clear b', 'pickup-has-precondition-handempty', 'has-initial-state-clear d', 'has-initial-state-ontable b', 'unstack-has-parameters-?x - block ?y - block', 'unstack-has-delete-effect-handempty', 'pickup-has-delete-effect-clear ?x', 'pickup-has-precondition-ontable ?x', 'stack-has-add-effect-handempty', 'unstack-has-add-effect-holding ?x', 'putdown-has-add-effect-ontable ?x', 'has-initial-state-clear a', 'has-initial-state-handempty', 'pickup-has-precondition-clear ?x', 'stack-has-add-effect-on ?x ?y', 'has-goal-state-on d c', 'stack-has-add-effect-clear ?x', 'stack-has-precondition-holding ?x', 'pickup-has-parameters-?x - block', 'has-initial-state-ontable d', 'has-initial-state-ontable a', 'unstack-has-precondition-handempty', 'putdown-has-add-effect-clear ?x', 'putdown-has-parameters-?x - block', 'has-goal-state-on b a', 'has-initial-state-ontable c'], 'stack-has-add-effect-clear ?x'] 2\n",
      "[['stack-has-precondition-clear ?y', 'has-goal-state-on c b', 'pickup-has-delete-effect-ontable ?x', 'unstack-has-precondition-clear ?x', 'unstack-has-precondition-on ?x ?y', 'stack-has-parameters-?x - block ?y - block', 'has-initial-state-clear c', 'has-initial-state-clear b', 'pickup-has-precondition-handempty', 'has-initial-state-clear d', 'has-initial-state-ontable b', 'unstack-has-parameters-?x - block ?y - block', 'unstack-has-delete-effect-handempty', 'pickup-has-delete-effect-clear ?x', 'pickup-has-precondition-ontable ?x', 'stack-has-add-effect-handempty', 'unstack-has-add-effect-holding ?x', 'putdown-has-add-effect-ontable ?x', 'has-initial-state-clear a', 'has-initial-state-handempty', 'pickup-has-precondition-clear ?x', 'stack-has-add-effect-on ?x ?y', 'has-goal-state-on d c', 'stack-has-add-effect-clear ?x', 'stack-has-precondition-holding ?x', 'pickup-has-parameters-?x - block', 'has-initial-state-ontable d', 'has-initial-state-ontable a', 'unstack-has-precondition-handempty', 'putdown-has-add-effect-clear ?x', 'putdown-has-parameters-?x - block', 'has-goal-state-on b a', 'has-initial-state-ontable c'], ['stack-has-add-effect-clear ?x']] 2\n",
      "[['stack-has-precondition-clear ?y', 'has-goal-state-on c b', 'pickup-has-delete-effect-ontable ?x', 'unstack-has-precondition-clear ?x', 'unstack-has-precondition-on ?x ?y', 'stack-has-parameters-?x - block ?y - block', 'has-initial-state-clear c', 'has-initial-state-clear b', 'pickup-has-precondition-handempty', 'has-initial-state-clear d', 'has-initial-state-ontable b', 'unstack-has-parameters-?x - block ?y - block', 'unstack-has-delete-effect-handempty', 'pickup-has-delete-effect-clear ?x', 'pickup-has-precondition-ontable ?x', 'stack-has-add-effect-handempty', 'unstack-has-add-effect-holding ?x', 'putdown-has-add-effect-ontable ?x', 'has-initial-state-clear a', 'has-initial-state-handempty', 'pickup-has-precondition-clear ?x', 'stack-has-add-effect-on ?x ?y', 'has-goal-state-on d c', 'pickup-has-add-effect-holding ?x', 'stack-has-precondition-holding ?x', 'pickup-has-parameters-?x - block', 'has-initial-state-ontable d', 'has-initial-state-ontable a', 'unstack-has-precondition-handempty', 'putdown-has-add-effect-clear ?x', 'putdown-has-parameters-?x - block', 'has-goal-state-on b a', 'has-initial-state-ontable c'], 'pickup-has-add-effect-holding ?x'] 2\n",
      "[['stack-has-precondition-clear ?y', 'has-goal-state-on c b', 'pickup-has-delete-effect-ontable ?x', 'unstack-has-precondition-clear ?x', 'unstack-has-precondition-on ?x ?y', 'stack-has-parameters-?x - block ?y - block', 'has-initial-state-clear c', 'has-initial-state-clear b', 'pickup-has-precondition-handempty', 'has-initial-state-clear d', 'has-initial-state-ontable b', 'unstack-has-parameters-?x - block ?y - block', 'unstack-has-delete-effect-handempty', 'pickup-has-delete-effect-clear ?x', 'pickup-has-precondition-ontable ?x', 'stack-has-add-effect-handempty', 'unstack-has-add-effect-holding ?x', 'putdown-has-add-effect-ontable ?x', 'has-initial-state-clear a', 'has-initial-state-handempty', 'pickup-has-precondition-clear ?x', 'stack-has-add-effect-on ?x ?y', 'has-goal-state-on d c', 'pickup-has-add-effect-holding ?x', 'stack-has-precondition-holding ?x', 'pickup-has-parameters-?x - block', 'has-initial-state-ontable d', 'has-initial-state-ontable a', 'unstack-has-precondition-handempty', 'putdown-has-add-effect-clear ?x', 'putdown-has-parameters-?x - block', 'has-goal-state-on b a', 'has-initial-state-ontable c'], ['pickup-has-add-effect-holding ?x']] 2\n",
      "[['stack-has-precondition-clear ?y', 'has-goal-state-on c b', 'pickup-has-delete-effect-ontable ?x', 'unstack-has-precondition-clear ?x', 'unstack-has-precondition-on ?x ?y', 'stack-has-parameters-?x - block ?y - block', 'has-initial-state-clear c', 'has-initial-state-clear b', 'pickup-has-precondition-handempty', 'has-initial-state-clear d', 'has-initial-state-ontable b', 'unstack-has-parameters-?x - block ?y - block', 'unstack-has-delete-effect-handempty', 'pickup-has-delete-effect-clear ?x', 'pickup-has-precondition-ontable ?x', 'stack-has-add-effect-handempty', 'unstack-has-add-effect-holding ?x', 'putdown-has-add-effect-ontable ?x', 'has-initial-state-clear a', 'has-initial-state-handempty', 'pickup-has-precondition-clear ?x', 'stack-has-add-effect-on ?x ?y', 'unstack-has-delete-effect-on ?x ?y', 'has-goal-state-on d c', 'stack-has-precondition-holding ?x', 'pickup-has-parameters-?x - block', 'has-initial-state-ontable d', 'has-initial-state-ontable a', 'unstack-has-precondition-handempty', 'putdown-has-add-effect-clear ?x', 'putdown-has-parameters-?x - block', 'has-goal-state-on b a', 'has-initial-state-ontable c'], 'unstack-has-delete-effect-on ?x ?y'] 2\n",
      "[['stack-has-precondition-clear ?y', 'has-goal-state-on c b', 'pickup-has-delete-effect-ontable ?x', 'unstack-has-precondition-clear ?x', 'unstack-has-precondition-on ?x ?y', 'stack-has-parameters-?x - block ?y - block', 'has-initial-state-clear c', 'has-initial-state-clear b', 'pickup-has-precondition-handempty', 'has-initial-state-clear d', 'has-initial-state-ontable b', 'unstack-has-parameters-?x - block ?y - block', 'unstack-has-delete-effect-handempty', 'pickup-has-delete-effect-clear ?x', 'pickup-has-precondition-ontable ?x', 'stack-has-add-effect-handempty', 'unstack-has-add-effect-holding ?x', 'putdown-has-add-effect-ontable ?x', 'has-initial-state-clear a', 'has-initial-state-handempty', 'pickup-has-precondition-clear ?x', 'stack-has-add-effect-on ?x ?y', 'unstack-has-delete-effect-on ?x ?y', 'has-goal-state-on d c', 'stack-has-precondition-holding ?x', 'pickup-has-parameters-?x - block', 'has-initial-state-ontable d', 'has-initial-state-ontable a', 'unstack-has-precondition-handempty', 'putdown-has-add-effect-clear ?x', 'putdown-has-parameters-?x - block', 'has-goal-state-on b a', 'has-initial-state-ontable c'], ['unstack-has-delete-effect-on ?x ?y']] 2\n"
     ]
    }
   ],
   "source": [
    "while successor_list:\n",
    "\n",
    "    candidate_node     = successor_list.pop()\n",
    "    new_node           = [candidate_node[0], node[1] + [candidate_node[1]]]\n",
    "    print(candidate_node, len(candidate_node))\n",
    "    print(new_node, len(new_node))\n",
    "    \n",
    "    fringe.put((pr_obj.heuristic(candidate_node[0]) + len(new_node[1]), new_node))"
   ]
  },
  {
   "cell_type": "code",
   "execution_count": 18,
   "id": "10876aec",
   "metadata": {
    "ExecuteTime": {
     "end_time": "2023-05-02T14:24:40.787804Z",
     "start_time": "2023-05-02T14:24:40.771536Z"
    }
   },
   "outputs": [
    {
     "data": {
      "text/plain": [
       "['stack-has-precondition-clear ?y',\n",
       " 'has-goal-state-on c b',\n",
       " 'pickup-has-delete-effect-ontable ?x',\n",
       " 'unstack-has-precondition-clear ?x',\n",
       " 'unstack-has-precondition-on ?x ?y',\n",
       " 'stack-has-parameters-?x - block ?y - block',\n",
       " 'has-initial-state-clear c',\n",
       " 'has-initial-state-clear b',\n",
       " 'pickup-has-precondition-handempty',\n",
       " 'has-initial-state-clear d',\n",
       " 'has-initial-state-ontable b',\n",
       " 'unstack-has-parameters-?x - block ?y - block',\n",
       " 'unstack-has-delete-effect-handempty',\n",
       " 'pickup-has-delete-effect-clear ?x',\n",
       " 'pickup-has-precondition-ontable ?x',\n",
       " 'stack-has-add-effect-handempty',\n",
       " 'unstack-has-add-effect-holding ?x',\n",
       " 'putdown-has-add-effect-ontable ?x',\n",
       " 'has-initial-state-clear a',\n",
       " 'has-initial-state-handempty',\n",
       " 'pickup-has-precondition-clear ?x',\n",
       " 'stack-has-add-effect-on ?x ?y',\n",
       " 'unstack-has-delete-effect-on ?x ?y',\n",
       " 'has-goal-state-on d c',\n",
       " 'stack-has-precondition-holding ?x',\n",
       " 'pickup-has-parameters-?x - block',\n",
       " 'has-initial-state-ontable d',\n",
       " 'has-initial-state-ontable a',\n",
       " 'unstack-has-precondition-handempty',\n",
       " 'putdown-has-add-effect-clear ?x',\n",
       " 'putdown-has-parameters-?x - block',\n",
       " 'has-goal-state-on b a',\n",
       " 'has-initial-state-ontable c']"
      ]
     },
     "execution_count": 18,
     "metadata": {},
     "output_type": "execute_result"
    }
   ],
   "source": [
    "candidate_node[0]"
   ]
  },
  {
   "cell_type": "code",
   "execution_count": 19,
   "id": "e7b557fb",
   "metadata": {
    "ExecuteTime": {
     "end_time": "2023-05-02T14:24:41.334921Z",
     "start_time": "2023-05-02T14:24:41.325745Z"
    }
   },
   "outputs": [
    {
     "data": {
      "text/plain": [
       "['unstack-has-delete-effect-on ?x ?y']"
      ]
     },
     "execution_count": 19,
     "metadata": {},
     "output_type": "execute_result"
    }
   ],
   "source": [
    "[candidate_node[1]]"
   ]
  },
  {
   "cell_type": "code",
   "execution_count": 26,
   "id": "3b3e0fb2",
   "metadata": {
    "ExecuteTime": {
     "end_time": "2023-05-02T14:28:53.571402Z",
     "start_time": "2023-05-02T14:28:53.560325Z"
    }
   },
   "outputs": [
    {
     "data": {
      "text/plain": [
       "['unstack-has-parameters-?x - block ?y - block',\n",
       " 'unstack-has-precondition-on ?x ?y',\n",
       " 'unstack-has-precondition-clear ?x',\n",
       " 'unstack-has-precondition-handempty',\n",
       " 'unstack-has-add-effect-holding ?x']"
      ]
     },
     "execution_count": 26,
     "metadata": {},
     "output_type": "execute_result"
    }
   ],
   "source": [
    "node[0][:5]"
   ]
  },
  {
   "cell_type": "code",
   "execution_count": 28,
   "id": "26c1c8be",
   "metadata": {
    "ExecuteTime": {
     "end_time": "2023-05-02T14:29:17.387508Z",
     "start_time": "2023-05-02T14:29:17.381971Z"
    }
   },
   "outputs": [],
   "source": [
    "temp_domain, temp_problem = write_domain_file_from_state(node[0][:15], pr_obj.domainTemplate, pr_obj.problemTemplate)"
   ]
  },
  {
   "cell_type": "code",
   "execution_count": 24,
   "id": "91a3b0f6",
   "metadata": {
    "ExecuteTime": {
     "end_time": "2023-05-02T14:26:49.948310Z",
     "start_time": "2023-05-02T14:26:49.933599Z"
    }
   },
   "outputs": [
    {
     "data": {
      "text/plain": [
       "('temp.pddl', 'temp_prob.pddl')"
      ]
     },
     "execution_count": 24,
     "metadata": {},
     "output_type": "execute_result"
    }
   ],
   "source": [
    "temp_domain, temp_problem"
   ]
  }
 ],
 "metadata": {
  "kernelspec": {
   "display_name": "Python 3 (ipykernel)",
   "language": "python",
   "name": "python3"
  },
  "language_info": {
   "codemirror_mode": {
    "name": "ipython",
    "version": 3
   },
   "file_extension": ".py",
   "mimetype": "text/x-python",
   "name": "python",
   "nbconvert_exporter": "python",
   "pygments_lexer": "ipython3",
   "version": "3.9.13"
  },
  "toc": {
   "base_numbering": 1,
   "nav_menu": {},
   "number_sections": true,
   "sideBar": true,
   "skip_h1_title": false,
   "title_cell": "Table of Contents",
   "title_sidebar": "Contents",
   "toc_cell": false,
   "toc_position": {},
   "toc_section_display": true,
   "toc_window_display": false
  }
 },
 "nbformat": 4,
 "nbformat_minor": 5
}
