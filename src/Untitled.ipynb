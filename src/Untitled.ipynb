{
 "cells": [
  {
   "cell_type": "code",
   "execution_count": 1,
   "id": "0b9bbb23",
   "metadata": {
    "ExecuteTime": {
     "end_time": "2023-05-03T00:33:29.721895Z",
     "start_time": "2023-05-03T00:33:29.716310Z"
    }
   },
   "outputs": [],
   "source": [
    "solution_list = [[1,2,3],[4,5,6], [1,3,4]]"
   ]
  },
  {
   "cell_type": "code",
   "execution_count": 20,
   "id": "238b19b9",
   "metadata": {
    "ExecuteTime": {
     "end_time": "2023-05-03T00:36:40.106315Z",
     "start_time": "2023-05-03T00:36:40.104549Z"
    }
   },
   "outputs": [],
   "source": [
    "new_state = [1,2,3,4]"
   ]
  },
  {
   "cell_type": "code",
   "execution_count": 21,
   "id": "ff235c0f",
   "metadata": {
    "ExecuteTime": {
     "end_time": "2023-05-03T00:36:40.943211Z",
     "start_time": "2023-05-03T00:36:40.940540Z"
    }
   },
   "outputs": [
    {
     "data": {
      "text/plain": [
       "[True, False, True]"
      ]
     },
     "execution_count": 21,
     "metadata": {},
     "output_type": "execute_result"
    }
   ],
   "source": [
    "[set(new_state).issuperset(s) for s in solution_list]"
   ]
  },
  {
   "cell_type": "code",
   "execution_count": 22,
   "id": "67b82757",
   "metadata": {
    "ExecuteTime": {
     "end_time": "2023-05-03T00:36:43.475256Z",
     "start_time": "2023-05-03T00:36:43.472659Z"
    }
   },
   "outputs": [
    {
     "data": {
      "text/plain": [
       "False"
      ]
     },
     "execution_count": 22,
     "metadata": {},
     "output_type": "execute_result"
    }
   ],
   "source": [
    " not any(set(new_state).issuperset(s) for s in solution_list)"
   ]
  },
  {
   "cell_type": "code",
   "execution_count": 23,
   "id": "678eb37f",
   "metadata": {
    "ExecuteTime": {
     "end_time": "2023-05-03T18:20:33.032027Z",
     "start_time": "2023-05-03T18:20:33.010857Z"
    }
   },
   "outputs": [],
   "source": [
    "test_sol_set = [[\"1\"],[\"2\"],[\"3\",\"4\"]]"
   ]
  },
  {
   "cell_type": "code",
   "execution_count": 28,
   "id": "62786e87",
   "metadata": {
    "ExecuteTime": {
     "end_time": "2023-05-03T18:21:14.493334Z",
     "start_time": "2023-05-03T18:21:14.483965Z"
    }
   },
   "outputs": [],
   "source": [
    "item = \"3\""
   ]
  },
  {
   "cell_type": "code",
   "execution_count": 29,
   "id": "4cb15862",
   "metadata": {
    "ExecuteTime": {
     "end_time": "2023-05-03T18:21:16.848491Z",
     "start_time": "2023-05-03T18:21:16.839247Z"
    }
   },
   "outputs": [
    {
     "name": "stdout",
     "output_type": "stream",
     "text": [
      "False\n",
      "False\n",
      "HIIIII\n",
      "3\n",
      "['3', '4']\n",
      "False\n"
     ]
    }
   ],
   "source": [
    "for solution in test_sol_set:\n",
    "    if item in solution:\n",
    "        print(\"HIIIII\")\n",
    "        print(item)\n",
    "        print(solution)\n",
    "#         return \"True\"\n",
    "    print (\"False\")"
   ]
  }
 ],
 "metadata": {
  "kernelspec": {
   "display_name": "Python 3 (ipykernel)",
   "language": "python",
   "name": "python3"
  },
  "language_info": {
   "codemirror_mode": {
    "name": "ipython",
    "version": 3
   },
   "file_extension": ".py",
   "mimetype": "text/x-python",
   "name": "python",
   "nbconvert_exporter": "python",
   "pygments_lexer": "ipython3",
   "version": "3.9.13"
  },
  "toc": {
   "base_numbering": 1,
   "nav_menu": {},
   "number_sections": true,
   "sideBar": true,
   "skip_h1_title": false,
   "title_cell": "Table of Contents",
   "title_sidebar": "Contents",
   "toc_cell": false,
   "toc_position": {},
   "toc_section_display": true,
   "toc_window_display": false
  }
 },
 "nbformat": 4,
 "nbformat_minor": 5
}
